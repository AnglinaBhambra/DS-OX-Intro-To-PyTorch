{
 "metadata": {
  "language_info": {
   "codemirror_mode": {
    "name": "ipython",
    "version": 3
   },
   "file_extension": ".py",
   "mimetype": "text/x-python",
   "name": "python",
   "nbconvert_exporter": "python",
   "pygments_lexer": "ipython3",
   "version": "3.8.5-final"
  },
  "orig_nbformat": 2,
  "kernelspec": {
   "name": "python_defaultSpec_1600633036794",
   "display_name": "Python 3.8.5 64-bit ('ostalk': conda)"
  }
 },
 "nbformat": 4,
 "nbformat_minor": 2,
 "cells": [
  {
   "source": [
    "## Part A - Basics of Tensors"
   ],
   "cell_type": "markdown",
   "metadata": {}
  },
  {
   "cell_type": "code",
   "execution_count": 2,
   "metadata": {},
   "outputs": [],
   "source": [
    "import torch\n",
    "import numpy as np"
   ]
  },
  {
   "source": [
    "[Numpy](https://numpy.org/doc/stable/user/whatisnumpy.html) is the core library for scientific computing in Python. It provides a high-performance multidimensional array object, and tools for working with these arrays. [[1](https://cs231n.github.io/python-numpy-tutorial/#numpy)]\n",
    "\n",
    "Tensors are similar to NumPy’s ndarrays, with the addition being that Tensors can also be used on a GPU to accelerate computing. [[2](https://pytorch.org/tutorials/beginner/blitz/tensor_tutorial.html)]\n",
    "\n",
    "PyTorch interoperates well with NumPy. Below we create a NumPy array, convert it into a PyTorch Tensor, then back into a NumPy array. This is important because most datasets you’ll work with will likely be read and preprocessed as Numpy arrays. [[3](https://medium.com/swlh/pytorch-basics-tensors-and-gradients-eb2f6e8a6eee)]"
   ],
   "cell_type": "markdown",
   "metadata": {}
  },
  {
   "cell_type": "code",
   "execution_count": 3,
   "metadata": {},
   "outputs": [
    {
     "output_type": "execute_result",
     "data": {
      "text/plain": "array([[1., 1.],\n       [3., 3.]])"
     },
     "metadata": {},
     "execution_count": 3
    }
   ],
   "source": [
    "x = np.array([[1, 1], [3, 3.]])\n",
    "x"
   ]
  },
  {
   "cell_type": "code",
   "execution_count": 4,
   "metadata": {},
   "outputs": [
    {
     "output_type": "execute_result",
     "data": {
      "text/plain": "tensor([[1., 1.],\n        [3., 3.]], dtype=torch.float64)"
     },
     "metadata": {},
     "execution_count": 4
    }
   ],
   "source": [
    "y = torch.from_numpy(x)\n",
    "y"
   ]
  },
  {
   "cell_type": "code",
   "execution_count": 7,
   "metadata": {},
   "outputs": [
    {
     "output_type": "execute_result",
     "data": {
      "text/plain": "array([[1., 1.],\n       [3., 3.]])"
     },
     "metadata": {},
     "execution_count": 7
    }
   ],
   "source": [
    "z = y.numpy()\n",
    "z"
   ]
  },
  {
   "cell_type": "code",
   "execution_count": 8,
   "metadata": {},
   "outputs": [
    {
     "output_type": "execute_result",
     "data": {
      "text/plain": "(dtype('float64'), torch.float64, dtype('float64'))"
     },
     "metadata": {},
     "execution_count": 8
    }
   ],
   "source": [
    "# verifying that x, y and z have the same data types\n",
    "x.dtype, y.dtype, z.dtype"
   ]
  },
  {
   "source": [
    "A tensor can be a number, vector, matrix as well as any n-dimensional array."
   ],
   "cell_type": "markdown",
   "metadata": {}
  },
  {
   "cell_type": "code",
   "execution_count": 9,
   "metadata": {},
   "outputs": [
    {
     "output_type": "execute_result",
     "data": {
      "text/plain": "tensor(1.)"
     },
     "metadata": {},
     "execution_count": 9
    }
   ],
   "source": [
    "a = torch.tensor(1.)\n",
    "a"
   ]
  },
  {
   "cell_type": "code",
   "execution_count": 10,
   "metadata": {},
   "outputs": [
    {
     "output_type": "execute_result",
     "data": {
      "text/plain": "tensor([1., 2., 3., 4.])"
     },
     "metadata": {},
     "execution_count": 10
    }
   ],
   "source": [
    "b = torch.tensor([1., 2, 3, 4])\n",
    "b"
   ]
  },
  {
   "cell_type": "code",
   "execution_count": 11,
   "metadata": {},
   "outputs": [
    {
     "output_type": "execute_result",
     "data": {
      "text/plain": "tensor([[1., 1.],\n        [2., 2.],\n        [3., 3.]])"
     },
     "metadata": {},
     "execution_count": 11
    }
   ],
   "source": [
    "c = torch.tensor([[1., 1], [2, 2], [3, 3]])\n",
    "c"
   ]
  },
  {
   "cell_type": "code",
   "execution_count": 12,
   "metadata": {},
   "outputs": [
    {
     "output_type": "execute_result",
     "data": {
      "text/plain": "tensor([[[1., 2., 3.],\n         [3., 4., 5.]],\n\n        [[5., 6., 7.],\n         [7., 8., 9.]]])"
     },
     "metadata": {},
     "execution_count": 12
    }
   ],
   "source": [
    "# 3D array\n",
    "d = torch.tensor([\n",
    "    [[1, 2, 3], \n",
    "     [3, 4, 5]], \n",
    "    [[5, 6, 7], \n",
    "     [7, 8, 9.]]])\n",
    "d"
   ]
  },
  {
   "cell_type": "code",
   "execution_count": 16,
   "metadata": {},
   "outputs": [
    {
     "output_type": "execute_result",
     "data": {
      "text/plain": "(torch.Size([]), torch.Size([4]), torch.Size([3, 2]), torch.Size([2, 2, 3]))"
     },
     "metadata": {},
     "execution_count": 16
    }
   ],
   "source": [
    "a.shape, b.shape, c.shape, d.shape"
   ]
  },
  {
   "source": [
    "More PyTorch Tensor functions are explored in my blog post [here](https://medium.com/swlh/exploring-5-pytorch-tensor-functions-for-beginners-f740fd04c258)."
   ],
   "cell_type": "markdown",
   "metadata": {}
  },
  {
   "source": [
    "## Part B - Gradients"
   ],
   "cell_type": "markdown",
   "metadata": {}
  },
  {
   "source": [
    "One other special thing about PyTorch, is that every Tensor has a `requires_grad` (default is set to False) flag, so that when we call the `.backward` method, we are able to compute derivatives automatically.\n",
    "\n",
    "We will come to understand why Gradients are important shortly.\n",
    "\n",
    "Below you will find an example of how we calculate these gradients and basic tensor arithmetic operations."
   ],
   "cell_type": "markdown",
   "metadata": {}
  },
  {
   "cell_type": "code",
   "execution_count": 17,
   "metadata": {},
   "outputs": [],
   "source": [
    "x = torch.tensor(10.)\n",
    "w = torch.tensor(15., requires_grad=True)\n",
    "b = torch.tensor(20., requires_grad=True)"
   ]
  },
  {
   "cell_type": "code",
   "execution_count": 18,
   "metadata": {},
   "outputs": [
    {
     "output_type": "execute_result",
     "data": {
      "text/plain": "tensor(170., grad_fn=<AddBackward0>)"
     },
     "metadata": {},
     "execution_count": 18
    }
   ],
   "source": [
    "y = w * x + b\n",
    "y"
   ]
  },
  {
   "cell_type": "code",
   "execution_count": 19,
   "metadata": {},
   "outputs": [],
   "source": [
    "y.backward() # As mentioned above, this method computes the derivatives."
   ]
  },
  {
   "cell_type": "code",
   "execution_count": 20,
   "metadata": {
    "tags": []
   },
   "outputs": [
    {
     "output_type": "stream",
     "name": "stdout",
     "text": "dy/dx: None\ndy/dw: tensor(10.)\ndy/db: tensor(1.)\n"
    }
   ],
   "source": [
    "# We can see the derivatives of y with respect to their input tensors, through using the .grad flag.\n",
    "print('dy/dx:', x.grad)\n",
    "print('dy/dw:', w.grad)\n",
    "print('dy/db:', b.grad)"
   ]
  },
  {
   "source": [
    "More about PyTorch gradients can be found in [this great video series](https://www.youtube.com/watch?v=DbeIqrwb_dE&list=PLqnslRFeH2UrcDBWF5mfPGpqQDSta6VK4&index=3&ab_channel=PythonEngineer)."
   ],
   "cell_type": "markdown",
   "metadata": {}
  }
 ]
}